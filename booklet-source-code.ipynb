{
 "cells": [
  {
   "cell_type": "markdown",
   "metadata": {},
   "source": [
    "# Introduction to Feature Stores with Feast\n",
    "## The easy-reading booklet to master the key concepts of feature stores and learn how to use Feast"
   ]
  },
  {
   "cell_type": "markdown",
   "metadata": {},
   "source": [
    "### Import libraries"
   ]
  },
  {
   "cell_type": "code",
   "execution_count": null,
   "metadata": {},
   "outputs": [],
   "source": [
    "COMPUTE_LOCAL_WORKING_FOLDER = 'work/fullstackml/experiments/feast-credit-scoring'\n",
    "\n",
    "from feast import (\n",
    "    FeatureStore, \n",
    "    Entity, \n",
    "    Field, \n",
    "    FeatureService, \n",
    "    FeatureView, \n",
    "    FileSource, \n",
    "    RepoConfig,\n",
    "    types,\n",
    "    ValueType,\n",
    "    PushSource\n",
    "    )\n",
    "\n",
    "from feast.infra.online_stores.sqlite import SqliteOnlineStoreConfig\n",
    "from feast.infra.offline_stores.file import FileOfflineStoreConfig\n",
    "from feast.infra.offline_stores.file_source import SavedDatasetFileStorage\n",
    "from feast.repo_config import RegistryConfig\n",
    "from feast.data_source import PushMode\n",
    "\n",
    "import pandas as pd\n",
    "from datetime import datetime, timedelta\n",
    "import os"
   ]
  },
  {
   "cell_type": "markdown",
   "metadata": {},
   "source": [
    "### Setup registry, repository, initialize feature store"
   ]
  },
  {
   "cell_type": "code",
   "execution_count": null,
   "metadata": {},
   "outputs": [],
   "source": [
    "repo_config = RepoConfig(\n",
    "    project=\"credit_scoring\",\n",
    "    registry=RegistryConfig(\n",
    "        registry_type='sqlite',\n",
    "        path=os.path.join(COMPUTE_LOCAL_WORKING_FOLDER,  \n",
    "        'fs',\n",
    "        'registry.db')),\n",
    "    provider=\"local\",\n",
    "    entity_key_serialization_version=2,\n",
    "    online_store=SqliteOnlineStoreConfig(\n",
    "        type='sqlite', \n",
    "        path=os.path.join(COMPUTE_LOCAL_WORKING_FOLDER, \n",
    "        'fs',\n",
    "        'online_store.db')),\n",
    "    offline_store=FileOfflineStoreConfig(type='file')\n",
    "    )\n",
    "        \n",
    "\n",
    "fs = FeatureStore(config=repo_config)"
   ]
  },
  {
   "cell_type": "markdown",
   "metadata": {},
   "source": [
    "### Define entities, festure views and register them"
   ]
  },
  {
   "cell_type": "code",
   "execution_count": null,
   "metadata": {},
   "outputs": [],
   "source": [
    "zipcode = Entity(\n",
    "    name=\"zipcode\", \n",
    "    join_keys=[\"zipcode\"]\n",
    "    )\n",
    "dob_ssn = Entity(\n",
    "    name=\"dob_ssn\",\n",
    "    value_type=ValueType.STRING,\n",
    "    join_keys=[\"dob_ssn\"],\n",
    "    description=\"Date of birth and last four digits of social security number\"\n",
    "    )\n",
    "\n",
    "zipcode_features = FeatureView(\n",
    "    name=\"zipcode_features\",\n",
    "    entities=[zipcode],\n",
    "    ttl=timedelta(days=3650),\n",
    "    schema=[\n",
    "        Field(name=\"city\", dtype=types.String),\n",
    "        Field(name=\"state\", dtype=types.String),\n",
    "        Field(name=\"location_type\", dtype=types.String),\n",
    "        Field(name=\"tax_returns_filed\", dtype=types.Int64),\n",
    "        Field(name=\"population\", dtype=types.Int64),\n",
    "        Field(name=\"total_wages\", dtype=types.Int64),\n",
    "    ],\n",
    "    source=FileSource(\n",
    "        path=os.path.join(\n",
    "            COMPUTE_LOCAL_WORKING_FOLDER,\n",
    "            'data',\n",
    "            'zipcode_table_2.parquet'),\n",
    "        timestamp_field=\"event_timestamp\",\n",
    "        #created_timestamp_column=\"created_timestamp\",\n",
    "    )\n",
    ")\n",
    "\n",
    "credit_history = FeatureView(\n",
    "    name=\"credit_history\",\n",
    "    entities=[dob_ssn],\n",
    "    ttl=timedelta(days=90),\n",
    "    source=FileSource(\n",
    "        path=os.path.join(\n",
    "            COMPUTE_LOCAL_WORKING_FOLDER,\n",
    "            'data',\n",
    "            'credit_history_2.parquet'),\n",
    "        timestamp_field=\"event_timestamp\",\n",
    "        #created_timestamp_column=\"created_timestamp\",\n",
    "    ),\n",
    ")\n",
    "\n",
    "# Register entities and feature views\n",
    "fs.apply([\n",
    "    credit_history, \n",
    "    dob_ssn, \n",
    "    zipcode, \n",
    "    zipcode_features]) "
   ]
  },
  {
   "cell_type": "raw",
   "metadata": {},
   "source": [
    "# Creating timestamps for the data  \n",
    "timestamps = pd.date_range(      \n",
    "    end=pd.Timestamp.now(),      \n",
    "    periods=len(data_df),      \n",
    "    freq='D').to_frame(name=\"event_timestamp\", index=False) "
   ]
  },
  {
   "cell_type": "markdown",
   "metadata": {},
   "source": [
    "### Generate training dataset"
   ]
  },
  {
   "cell_type": "code",
   "execution_count": null,
   "metadata": {},
   "outputs": [],
   "source": [
    "loan_data = pd.read_parquet(os.path.join(\n",
    "   COMPUTE_LOCAL_WORKING_FOLDER,\n",
    "   'data',\n",
    "   'loan_table.parquet'))\n",
    "\n",
    "feast_features = [\n",
    "   \"zipcode_features:city\",\n",
    "   \"zipcode_features:state\",\n",
    "   \"zipcode_features:location_type\",\n",
    "   \"zipcode_features:tax_returns_filed\",\n",
    "   \"zipcode_features:population\",\n",
    "   \"zipcode_features:total_wages\",\n",
    "   \"credit_history:credit_card_due\",\n",
    "   \"credit_history:mortgage_due\",\n",
    "   \"credit_history:student_loan_due\",\n",
    "   \"credit_history:vehicle_loan_due\",\n",
    "   \"credit_history:hard_pulls\",\n",
    "   \"credit_history:missed_payments_2y\",\n",
    "   \"credit_history:missed_payments_1y\",\n",
    "   \"credit_history:missed_payments_6m\",\n",
    "   \"credit_history:bankruptcies\",\n",
    "]\n",
    "\n",
    "training_data = fs.get_historical_features(\n",
    "   entity_df=loan_data, \n",
    "   features=feast_features\n",
    ")\n",
    "\n",
    "training_df = training_data.to_df()"
   ]
  },
  {
   "cell_type": "markdown",
   "metadata": {},
   "source": [
    "### Save the generated dataset for use in the moderation phase."
   ]
  },
  {
   "cell_type": "code",
   "execution_count": null,
   "metadata": {},
   "outputs": [],
   "source": [
    "# Storing the dataset as a local file\n",
    "dataset = fs.create_saved_dataset(\n",
    "    from_=training_data,\n",
    "    name=\"credit_scoring_dataset\",\n",
    "    storage=SavedDatasetFileStorage(os.path.join(\n",
    "            COMPUTE_LOCAL_WORKING_FOLDER,\n",
    "            'data',\n",
    "            'credit_scoring_dataset.parquet'))\n",
    "            )"
   ]
  },
  {
   "cell_type": "markdown",
   "metadata": {},
   "source": [
    "### How retrieve a stored dataset"
   ]
  },
  {
   "cell_type": "code",
   "execution_count": null,
   "metadata": {},
   "outputs": [],
   "source": [
    "# Retrieving the saved dataset and converting it to a DataFrame\n",
    "training_df = fs.get_saved_dataset(name=\"credit_scoring_dataset\").to_df()"
   ]
  },
  {
   "cell_type": "markdown",
   "metadata": {},
   "source": [
    "### Materialization"
   ]
  },
  {
   "cell_type": "code",
   "execution_count": null,
   "metadata": {},
   "outputs": [],
   "source": [
    "fs.materialize_incremental(end_date=datetime.now())"
   ]
  },
  {
   "cell_type": "code",
   "execution_count": null,
   "metadata": {},
   "outputs": [],
   "source": [
    "dummy_loan_request = {\n",
    "   \"zipcode\": [76104],\n",
    "   \"dob_ssn\": [\"19500806_6783\"],\n",
    "   \"person_age\": [133],\n",
    "   \"person_income\": [59000],\n",
    "   \"person_home_ownership\": [\"RENT\"],\n",
    "   \"person_emp_length\": [123.0],\n",
    "   \"loan_intent\": [\"PERSONAL\"],\n",
    "   \"loan_amnt\": [35000],\n",
    "   \"loan_int_rate\": [16.02],\n",
    "}\n",
    "\n",
    "# Next we fetch our online features \n",
    "customer_zipcode = dummy_loan_request['zipcode'][0]\n",
    "dob_ssn = dummy_loan_request[\"dob_ssn\"][0]\n",
    "\n",
    "feature_vector = fs.get_online_features(\n",
    "   entity_rows=[{\"zipcode\": customer_zipcode, \"dob_ssn\": dob_ssn}],\n",
    "   features=feast_features,\n",
    ").to_dict()\n",
    "\n",
    "# Converting the features to a DataFrame\n",
    "features = dummy_loan_request.copy()\n",
    "features.update(feature_vector)\n",
    "features_df = pd.DataFrame.from_dict(data=features)"
   ]
  },
  {
   "cell_type": "markdown",
   "metadata": {},
   "source": [
    "### Feature Service"
   ]
  },
  {
   "cell_type": "code",
   "execution_count": null,
   "metadata": {},
   "outputs": [],
   "source": [
    "# A feature service definition can be created that will consist references to multiple feature views\n",
    "mixedviews_fs = FeatureService(\n",
    "    name=\"mixed_views\",\n",
    "    features=[\n",
    "        zipcode_features[[\"city\",\"state\"]],\n",
    "        credit_history[[\"mortgage_due\"]]\n",
    "        ]\n",
    ")\n",
    "\n",
    "fs.apply([mixedviews_fs])\n",
    "\n",
    "# Now a call can be made to this feature service to retrieve required data that may be coming from one or more feature views -\n",
    "features_to_fetch = fs.get_feature_service(\"mixed_views\")\n",
    "\n",
    "entity_rows = [\n",
    "        {\n",
    "            \"zipcode\": 76104,\n",
    "            \"dob_ssn\": 19500806_6783,\n",
    "        },\n",
    "    ]\n",
    "\n",
    "# From online store\n",
    "returned_features = fs.get_online_features(\n",
    "        features=features_to_fetch,\n",
    "        entity_rows=entity_rows\n",
    "    ).to_dict()\n",
    "\n",
    "# or from offline store\n",
    "returned_features_off = fs.get_historical_features(\n",
    "    features=features_to_fetch, \n",
    "    entity_df=loan_data).to_df()"
   ]
  },
  {
   "cell_type": "markdown",
   "metadata": {},
   "source": [
    "### Push source"
   ]
  },
  {
   "cell_type": "code",
   "execution_count": null,
   "metadata": {},
   "outputs": [],
   "source": [
    "zipcode_push_source = PushSource(\n",
    "    name=\"zipcode_push_source\",\n",
    "    batch_source=FileSource(\n",
    "        path=os.path.join(\n",
    "            COMPUTE_LOCAL_WORKING_FOLDER,\n",
    "            'data',\n",
    "            'zipcode_table_2.parquet'),\n",
    "        timestamp_field=\"event_timestamp\",\n",
    "    )\n",
    ")\n",
    "\n",
    "zipcode_features_push = FeatureView(\n",
    "    name=\"zipcode_features_push\",\n",
    "    entities=[zipcode],\n",
    "    ttl=timedelta(days=3650),\n",
    "    source=zipcode_push_source\n",
    ")\n",
    "\n",
    "fs.apply([zipcode_features_push])"
   ]
  },
  {
   "cell_type": "code",
   "execution_count": null,
   "metadata": {},
   "outputs": [],
   "source": [
    "# new dummy data to push\n",
    "pushed_data = [{'zipcode': 1111,\n",
    " 'city': 'NEW ROME',\n",
    " 'state': 'NJ',\n",
    " 'location_type': 'PRIMARY',\n",
    " 'tax_returns_filed': 13245,\n",
    " 'population': 24083,\n",
    " 'total_wages': 1089095041,\n",
    " 'event_timestamp': pd.Timestamp('2017-01-01 12:00:00+0000', tz='UTC')}]\n",
    "\n",
    "# execute the push\n",
    "fs.push(\"zipcode_push_source\", pd.DataFrame.from_dict(data=pushed_data), to=PushMode.ONLINE_AND_OFFLINE)"
   ]
  },
  {
   "cell_type": "code",
   "execution_count": null,
   "metadata": {},
   "outputs": [],
   "source": [
    "# get just pushed data\n",
    "\n",
    "fs.get_online_features(\n",
    "   entity_rows=[{\"zipcode\": 1111}],\n",
    "   features=[\n",
    "   \"zipcode_features_push:city\",\n",
    "   \"zipcode_features_push:state\",\n",
    "   \"zipcode_features_push:location_type\",\n",
    "   \"zipcode_features_push:tax_returns_filed\",\n",
    "   \"zipcode_features_push:population\",\n",
    "   \"zipcode_features_push:total_wages\"],\n",
    ").to_dict()"
   ]
  },
  {
   "cell_type": "markdown",
   "metadata": {},
   "source": [
    "### Erase all configuration, log, and files generated at the time of initialization."
   ]
  },
  {
   "cell_type": "code",
   "execution_count": null,
   "metadata": {},
   "outputs": [],
   "source": [
    "fs.teardown()"
   ]
  },
  {
   "cell_type": "markdown",
   "metadata": {},
   "source": []
  }
 ],
 "metadata": {
  "kernelspec": {
   "display_name": "Python 3 (ipykernel)",
   "language": "python",
   "name": "python3"
  },
  "language_info": {
   "codemirror_mode": {
    "name": "ipython",
    "version": 3
   },
   "file_extension": ".py",
   "mimetype": "text/x-python",
   "name": "python",
   "nbconvert_exporter": "python",
   "pygments_lexer": "ipython3",
   "version": "3.10.6"
  },
  "orig_nbformat": 4
 },
 "nbformat": 4,
 "nbformat_minor": 2
}
